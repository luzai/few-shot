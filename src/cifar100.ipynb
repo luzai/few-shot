{
 "cells": [
  {
   "cell_type": "code",
   "execution_count": 3,
   "metadata": {},
   "outputs": [],
   "source": [
    "from utils import * "
   ]
  },
  {
   "cell_type": "code",
   "execution_count": 44,
   "metadata": {},
   "outputs": [],
   "source": [
    "cl = np.array(['aquatic_mammals',\n",
    "                                'fish',\n",
    "                                'flowers',\n",
    "                                'food_containers',\n",
    "                                'fruit_and_vegetables',\n",
    "                                'household_electrical_devices',\n",
    "                                'household_furniture',\n",
    "                                'insects',\n",
    "                                'large_carnivores',\n",
    "                                'large_man-made_outdoor_things',\n",
    "                                'large_natural_outdoor_scenes',\n",
    "                                'large_omnivores_and_herbivores',\n",
    "                                'medium_mammals',\n",
    "                                'non-insect_invertebrates',\n",
    "                                'people',\n",
    "                                'reptiles',\n",
    "                                'small_mammals',\n",
    "                                'trees',\n",
    "                                'vehicles_1',\n",
    "                                'vehicles_2'])\n",
    "\n",
    "fl = np.array([['apple', 'aquarium_fish', 'baby', 'bear', 'beaver'],\n",
    "              ['bed', 'bee', 'beetle', 'bicycle', 'bottle'],\n",
    "              ['bowl', 'boy', 'bridge', 'bus', 'butterfly'],\n",
    "              ['camel', 'can', 'castle', 'caterpillar', 'cattle'],\n",
    "              ['chair', 'chimpanzee', 'clock', 'cloud', 'cockroach'],\n",
    "              ['couch', 'crab', 'crocodile', 'cup', 'dinosaur'],\n",
    "              ['dolphin', 'elephant', 'flatfish', 'forest', 'fox'],\n",
    "              ['girl', 'hamster', 'house', 'kangaroo', 'keyboard'],\n",
    "              ['lamp', 'lawn_mower', 'leopard', 'lion', 'lizard'],\n",
    "              ['lobster', 'man', 'maple_tree', 'motorcycle', 'mountain'],\n",
    "              ['mouse', 'mushroom', 'oak_tree', 'orange', 'orchid'],\n",
    "              ['otter', 'palm_tree', 'pear', 'pickup_truck', 'pine_tree'],\n",
    "              ['plain', 'plate', 'poppy', 'porcupine', 'possum'],\n",
    "              ['rabbit', 'raccoon', 'ray', 'road', 'rocket'],\n",
    "              ['rose', 'sea', 'seal', 'shark', 'shrew'],\n",
    "              ['skunk', 'skyscraper', 'snail', 'snake', 'spider'],\n",
    "              ['squirrel', 'streetcar', 'sunflower', 'sweet_pepper', 'table'],\n",
    "              ['tank', 'telephone', 'television', 'tiger', 'tractor'],\n",
    "              ['train', 'trout', 'tulip', 'turtle', 'wardrobe'],\n",
    "              ['whale', 'willow_tree', 'wolf', 'woman', 'worm']]).flatten()\n",
    "\n",
    "fl2=np.loadtxt('tmp.txt',str,delimiter=', ').flatten()\n",
    "\n",
    "name2fl={v:ind for ind,v in enumerate(fl)}\n",
    "name2fl2={v:ind for ind,v in enumerate(fl2)}"
   ]
  },
  {
   "cell_type": "code",
   "execution_count": null,
   "metadata": {},
   "outputs": [],
   "source": []
  },
  {
   "cell_type": "code",
   "execution_count": null,
   "metadata": {},
   "outputs": [],
   "source": []
  }
 ],
 "metadata": {
  "kernelspec": {
   "display_name": "Python 2",
   "language": "python",
   "name": "python2"
  }
 },
 "nbformat": 4,
 "nbformat_minor": 2
}
