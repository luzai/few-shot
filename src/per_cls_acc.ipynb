{
 "cells": [
  {
   "cell_type": "code",
   "execution_count": 1,
   "metadata": {},
   "outputs": [
    {
     "name": "stderr",
     "output_type": "stream",
     "text": [
      "Using TensorFlow backend.\n"
     ]
    }
   ],
   "source": [
    "import lz \n",
    "from lz import *\n",
    "%load_ext autoreload\n",
    "# %reload_ext autoreload\n",
    "%autoreload 2\n",
    "%matplotlib inline\n",
    "import matplotlib\n",
    "matplotlib.style.use('ggplot')\n",
    "\n",
    "from IPython.core.interactiveshell import InteractiveShell\n",
    "InteractiveShell.ast_node_interactivity = \"all\""
   ]
  },
  {
   "cell_type": "code",
   "execution_count": 2,
   "metadata": {},
   "outputs": [
    {
     "name": "stdout",
     "output_type": "stream",
     "text": [
      "129678 /home/wangxinglu/prj/few-shot/data/imglst/img10k.test.smpl\n",
      "568165 /home/wangxinglu/prj/few-shot/data/imglst/img10k.test.txt\n",
      "568106 /home/wangxinglu/prj/few-shot/data/imglst/img10k.test.twolevel\n"
     ]
    }
   ],
   "source": [
    "!wc -l /home/wangxinglu/prj/few-shot/data/imglst/img10k.test.smpl\n",
    "!wc -l /home/wangxinglu/prj/few-shot/data/imglst/img10k.test.txt \n",
    "!wc -l /home/wangxinglu/prj/few-shot/data/imglst/img10k.test.twolevel"
   ]
  },
  {
   "cell_type": "code",
   "execution_count": 11,
   "metadata": {},
   "outputs": [],
   "source": [
    "def per_cls_acc(pred, lb):\n",
    "    ### per cls acc\n",
    "    timer = Timer()\n",
    "    cnts, bounds = np.histogram(lb, bins=10000, range=(-0.5, 10000 - 0.5))\n",
    "    print np.where(cnts == 0)\n",
    "    cnts[cnts == 0] = 1\n",
    "    assert len(cnts[cnts == 0]) == 0, 'val must have some samples'\n",
    "    print(min(cnts))\n",
    "    timer.toc()\n",
    "    from sklearn.metrics import confusion_matrix\n",
    "\n",
    "    conf = confusion_matrix(lb, pred, np.arange(0, 10000)).astype(float)\n",
    "    timer.toc()\n",
    "\n",
    "    plt.figure()\n",
    "    plt.plot(np.diag(conf) / cnts)\n",
    "\n",
    "    plt.figure()\n",
    "    cnts, bounds, _ = plt.hist(lb, bins=10000, range=(-0.5, 10000 - 0.5))\n",
    "    #     markerline, stemlines, baseline =plt.stem(cnts*np.diag(conf)/cnts)\n",
    "    #     _=plt.setp(baseline, 'color', 'b')\n",
    "    #     _=plt.setp(stemlines,'color','b')\n",
    "    plt.plot(cnts * np.diag(conf) / cnts)\n",
    "    timer.toc()\n",
    "    return np.mean(lb == pred), np.nanmean(np.diag(conf) / cnts)\n",
    "def load_fea(name, return_fc=False):\n",
    "    import h5py, numpy as np\n",
    "    f = h5py.File(name, 'r')\n",
    "\n",
    "    orders = f['fcs'].keys()\n",
    "\n",
    "    lbs = [f['lbs/' + l].value for l in orders]\n",
    "    fcs = [f['fcs/' + l].value for l in orders]\n",
    "\n",
    "    lb = np.concatenate(lbs, axis=-1)\n",
    "    fc = np.concatenate(fcs, axis=-1)\n",
    "\n",
    "    pred = np.argmax(fc, axis=0)\n",
    "    pred = pred.reshape((pred.shape[-1],))\n",
    "    lb = lb.reshape((lb.shape[-1],))\n",
    "\n",
    "    f.close()\n",
    "    if return_fc:\n",
    "        return pred, lb, fc\n",
    "    else:\n",
    "        return pred, lb"
   ]
  },
  {
   "cell_type": "code",
   "execution_count": 6,
   "metadata": {},
   "outputs": [
    {
     "name": "stdout",
     "output_type": "stream",
     "text": [
      "/mnt/nfs1703/test/prj/few-shot/models/res101.img10k.longtail.flatten2\n"
     ]
    }
   ],
   "source": [
    "%cd /home/wangxinglu/prj/few-shot/models/res101.img10k.longtail.flatten2/"
   ]
  },
  {
   "cell_type": "code",
   "execution_count": 9,
   "metadata": {},
   "outputs": [
    {
     "name": "stdout",
     "output_type": "stream",
     "text": [
      "total 22206552\r\n",
      "-rwxrwxrwx 1 wangxinglu wangxinglu         460 Sep 29 15:08 aiUCHncQQ5.png\r\n",
      "-rw-rw-r-- 1 wangxinglu wangxinglu 22733739920 Oct 31 23:13 flatten2.h5\r\n",
      "-rw-rw-r-- 1 wangxinglu wangxinglu     4326240 Oct 31 22:41 flatten3.h5\r\n",
      "-rw-rw-r-- 1 wangxinglu wangxinglu        2318 Oct 31 22:56 load_model.py\r\n",
      "-rwxrwxrwx 1 wangxinglu wangxinglu     1304856 Oct  4 06:30 log.txt\r\n",
      "-rwxrwxrwx 1 wangxinglu wangxinglu      106053 Oct  2 11:26 model.yaml\r\n",
      "lrwxrwxrwx 1 wangxinglu wangxinglu          27 Sep 29 14:30 res10k-flatten.yaml -> ../meta/res10k-flatten.yaml\r\n",
      "lrwxrwxrwx 1 wangxinglu wangxinglu          17 Oct  3 09:25 run_parrots.py -> ../run_parrots.py\r\n",
      "-rw-rw-r-- 1 wangxinglu wangxinglu        2740 Oct 31 22:47 session.bak.yaml\r\n",
      "-rwxrwxrwx 1 wangxinglu wangxinglu        3717 Oct 31 22:39 session.yaml\r\n",
      "drwxrwxrwx 1 wangxinglu wangxinglu        1174 Oct  4 08:15 snapshots\r\n",
      "-rwxrwxrwx 1 wangxinglu wangxinglu           0 Oct  4 00:52 test\r\n"
     ]
    }
   ],
   "source": [
    "!ls -l"
   ]
  },
  {
   "cell_type": "code",
   "execution_count": 10,
   "metadata": {},
   "outputs": [
    {
     "name": "stdout",
     "output_type": "stream",
     "text": [
      "(array([], dtype=int64),)\n",
      "3\n"
     ]
    },
    {
     "data": {
      "text/plain": [
       "(0.39411427203672023, 0.23016645153426263)"
      ]
     },
     "execution_count": 10,
     "metadata": {},
     "output_type": "execute_result"
    },
    {
     "data": {
      "image/png": "[encoded data removed]",
      "text/plain": [
       "<matplotlib.figure.Figure at 0x7f4f40366690>"
      ]
     },
     "metadata": {},
     "output_type": "display_data"
    },
    {
     "data": {
      "image/png": "[encoded data removed]",
      "text/plain": [
       "<matplotlib.figure.Figure at 0x7f4f3fc8a090>"
      ]
     },
     "metadata": {},
     "output_type": "display_data"
    }
   ],
   "source": [
    "pred ,lb = load_fea('flatten2.h5')\n",
    "per_cls_acc(pred,lb)"
   ]
  },
  {
   "cell_type": "code",
   "execution_count": null,
   "metadata": {},
   "outputs": [],
   "source": []
  },
  {
   "cell_type": "code",
   "execution_count": null,
   "metadata": {},
   "outputs": [],
   "source": []
  },
  {
   "cell_type": "code",
   "execution_count": null,
   "metadata": {},
   "outputs": [],
   "source": []
  },
  {
   "cell_type": "code",
   "execution_count": null,
   "metadata": {},
   "outputs": [],
   "source": []
  },
  {
   "cell_type": "code",
   "execution_count": null,
   "metadata": {},
   "outputs": [],
   "source": []
  },
  {
   "cell_type": "code",
   "execution_count": 17,
   "metadata": {},
   "outputs": [],
   "source": [
    "from utils import *\n",
    "import utils\n",
    "import matplotlib\n",
    "\n",
    "matplotlib.style.use('ggplot')\n",
    "\n",
    "\n",
    "def find_leaves(tree_, node, chk=True):\n",
    "    res = []\n",
    "    try:\n",
    "        for node in nx.dfs_preorder_nodes(tree_, node):\n",
    "            if tree_.node[node]['nchild'] != 0: continue\n",
    "            res.append(node)\n",
    "    except Exception as inst:\n",
    "        print inst, 'wrong'\n",
    "    return res\n",
    "\n",
    "\n",
    "def find_child_recursive(tree_, node):\n",
    "    res = set()\n",
    "    for node in nx.dfs_preorder_nodes(tree_, node):\n",
    "        res.add(node)\n",
    "    return res\n",
    "\n",
    "\n",
    "nimgs = unpickle('d.pkl')\n",
    "nimgs = {k: len(v) for k, v in nimgs.iteritems()}\n",
    "tree = nx.read_gml('tree.gml')\n",
    "childs = find_leaves(tree, 'fall11')\n",
    "\n",
    "\n",
    "def tag_tree(tree_):\n",
    "    max_depth = 0\n",
    "    all_depth = []\n",
    "    all_nchild = []\n",
    "    all_height=[]\n",
    "    for node in nx.dfs_preorder_nodes(tree_, 'fall11'):\n",
    "        depth = nx.shortest_path_length(tree_, \"fall11\", node)\n",
    "        max_depth = max(depth, max_depth)\n",
    "        all_depth.append(depth)\n",
    "        nchild = len(list((tree_.successors(node))))\n",
    "        all_nchild.append(nchild)\n",
    "\n",
    "        height = max([nx.shortest_path_length(tree_, node, t) for t in find_leaves(tree_, node)])\n",
    "        all_height.append(height)\n",
    "        tree_.add_node(node, depth=depth, nchild=nchild, height=height)\n",
    "    tree_.max_depth = max_depth\n",
    "    tree_.all_depth = all_depth\n",
    "    tree_.all_nchild = all_nchild\n",
    "    tree_.all_height=all_height\n",
    "    return tree_\n",
    "\n",
    "\n",
    "tree = tag_tree(tree)\n",
    "\n",
    "\n",
    "def edge_weight(inp):\n",
    "    ni, nj = inp\n",
    "    p1 = nx.shortest_path(tree, 'fall11', ni)\n",
    "    p2 = nx.shortest_path(tree, 'fall11', nj)\n",
    "    assert p1[0] == 'fall11'\n",
    "    for ind, (t1, t2) in enumerate(zip(p1, p2)):\n",
    "        if t1 != t2: break\n",
    "    ind -= 1\n",
    "    node = p1[ind]\n",
    "    return tree.node[node]['height']\n",
    "\n",
    "\n",
    "v = np.array(childs)\n",
    "v = v[:4]\n",
    "vl = v.shape[0]\n",
    "\n",
    "inp = []\n",
    "for i in range(vl):\n",
    "    for j in range(i + 1, vl):\n",
    "        inp.append([v[i], v[j]])\n",
    "        # break\n",
    "# pool = mp.Pool(128)\n",
    "# wt = pool.map(edge_weight, inp)"
   ]
  },
  {
   "cell_type": "code",
   "execution_count": 15,
   "metadata": {},
   "outputs": [
    {
     "data": {
      "text/plain": [
       "(['fall11', u'n09287968', u'n09433442', u'n09428293', u'n08596076'],\n",
       " ['fall11', u'n09287968', u'n09433442', u'n09428293', u'n09428628'])"
      ]
     },
     "execution_count": 15,
     "metadata": {},
     "output_type": "execute_result"
    },
    {
     "data": {
      "text/plain": [
       "1"
      ]
     },
     "execution_count": 15,
     "metadata": {},
     "output_type": "execute_result"
    }
   ],
   "source": [
    "ni, nj = inp[0]\n",
    "p1 = nx.shortest_path(tree, 'fall11', ni)\n",
    "p2 = nx.shortest_path(tree, 'fall11', nj)\n",
    "p1,p2\n",
    "assert p1[0] == 'fall11'\n",
    "for ind, (t1, t2) in enumerate(zip(p1, p2)):\n",
    "    if t1 != t2: break\n",
    "ind -= 1\n",
    "node = p1[ind]\n",
    "tree.node[node]['height']"
   ]
  },
  {
   "cell_type": "code",
   "execution_count": 20,
   "metadata": {},
   "outputs": [
    {
     "data": {
      "text/plain": [
       "(array([  3.49800000e+03,   3.64000000e+02,   1.69000000e+02,\n",
       "          7.60000000e+01,   3.70000000e+01,   1.90000000e+01,\n",
       "          1.10000000e+01,   4.00000000e+00,   2.00000000e+00,\n",
       "          3.00000000e+00]),\n",
       " array([  1. ,   2.1,   3.2,   4.3,   5.4,   6.5,   7.6,   8.7,   9.8,\n",
       "         10.9,  12. ]),\n",
       " <a list of 10 Patch objects>)"
      ]
     },
     "execution_count": 20,
     "metadata": {},
     "output_type": "execute_result"
    },
    {
     "data": {
      "image/png": "[encoded data removed]",
      "text/plain": [
       "<matplotlib.figure.Figure at 0x7fe180e8dc90>"
      ]
     },
     "metadata": {},
     "output_type": "display_data"
    }
   ],
   "source": [
    "hs=(tree.all_height)\n",
    "hs=np.array(hs)\n",
    "hs=hs[hs!=0]\n",
    "plt.hist(hs)"
   ]
  },
  {
   "cell_type": "code",
   "execution_count": null,
   "metadata": {},
   "outputs": [],
   "source": []
  }
 ],
 "metadata": {
  "kernelspec": {
   "display_name": "Python 2",
   "language": "python",
   "name": "python2"
  },
  "language_info": {
   "codemirror_mode": {
    "name": "ipython",
    "version": 2
   },
   "file_extension": ".py",
   "mimetype": "text/x-python",
   "name": "python",
   "nbconvert_exporter": "python",
   "pygments_lexer": "ipython2",
   "version": "2.7.12"
  }
 },
 "nbformat": 4,
 "nbformat_minor": 2
}
