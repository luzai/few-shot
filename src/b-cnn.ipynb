{
 "cells": [
  {
   "cell_type": "code",
   "execution_count": 1,
   "metadata": {},
   "outputs": [
    {
     "name": "stdout",
     "output_type": "stream",
     "text": [
      "\n"
     ]
    }
   ],
   "source": [
    "from utils import *\n",
    "from metadata import *\n",
    "from gen_imglst import * \n",
    "from vis_utils import * \n",
    "import utils\n",
    "import tensorflow as tf\n",
    "# utils.init_dev(utils.get_dev())\n",
    "# utils.allow_growth()\n",
    "\n",
    "%load_ext autoreload\n",
    "# %reload_ext autoreload\n",
    "%autoreload 2\n",
    "%matplotlib inline\n",
    "import matplotlib\n",
    "matplotlib.style.use('ggplot')\n",
    "\n",
    "from IPython.core.interactiveshell import InteractiveShell\n",
    "InteractiveShell.ast_node_interactivity = \"all\"\n",
    "import matplotlib"
   ]
  },
  {
   "cell_type": "code",
   "execution_count": 2,
   "metadata": {},
   "outputs": [
    {
     "name": "stderr",
     "output_type": "stream",
     "text": [
      "Using TensorFlow backend.\n"
     ]
    },
    {
     "data": {
      "text/plain": [
       "<tensorflow.python.client.session.Session at 0x7f2a9da94350>"
      ]
     },
     "execution_count": 2,
     "metadata": {},
     "output_type": "execute_result"
    }
   ],
   "source": [
    "import keras\n",
    "init_dev(n=(5,))\n",
    "allow_growth()"
   ]
  },
  {
   "cell_type": "code",
   "execution_count": 81,
   "metadata": {},
   "outputs": [],
   "source": [
    "model_path='/home/wangxinglu/prj/bd-cnn/medium_dynamic_weights/weights_medium_dynamic_cifar_10_1.h5'\n",
    "model_path='/home/wangxinglu/prj/bd-cnn/medium_weights/weights_medium_cifar_10_1.h5'\n",
    "model=keras.models.load_model(model_path)"
   ]
  },
  {
   "cell_type": "code",
   "execution_count": 96,
   "metadata": {},
   "outputs": [
    {
     "data": {
      "text/plain": [
       "(<tf.Tensor 'input_1:0' shape=(?, 32, 32, 3) dtype=float32>,\n",
       " [<tf.Tensor 'predictions_cifar10_1/Softmax:0' shape=(?, 10) dtype=float32>])"
      ]
     },
     "execution_count": 96,
     "metadata": {},
     "output_type": "execute_result"
    }
   ],
   "source": [
    "import keras\n",
    "import numpy as np\n",
    "import os\n",
    "from keras.datasets import cifar10\n",
    "from keras.models import Model\n",
    "from keras.layers import Dense, Dropout, Activation, Flatten\n",
    "from keras.layers import Conv2D, MaxPooling2D, Input\n",
    "from keras.initializers import he_normal\n",
    "from keras import optimizers\n",
    "from keras.callbacks import LearningRateScheduler, TensorBoard\n",
    "from keras.layers.normalization import BatchNormalization\n",
    "from keras.utils.data_utils import get_file\n",
    "from keras import backend as K\n",
    "model.input,model.outputs\n",
    "(x_train, y_train), (x_test, y_test) = cifar10.load_data()\n",
    "x_train = x_train.astype('float32')\n",
    "x_train = (x_train - np.mean(x_train)) / np.std(x_train)\n",
    "x_test = x_test.astype('float32')\n",
    "x_test = (x_test - np.mean(x_test)) / np.std(x_test)"
   ]
  },
  {
   "cell_type": "code",
   "execution_count": 99,
   "metadata": {},
   "outputs": [],
   "source": [
    "begin=0\n",
    "ttl=x_test.shape[0]\n",
    "pred_l=[]\n",
    "while begin<ttl:\n",
    "    pred_l.append(K.function([model.input,K.learning_phase()],[model.outputs[-1]])([x_test[begin:begin+50],0])[0])\n",
    "    begin+=50\n",
    "#     if begin>500:\n",
    "#         break        "
   ]
  },
  {
   "cell_type": "code",
   "execution_count": 100,
   "metadata": {},
   "outputs": [
    {
     "data": {
      "text/plain": [
       "(0, 32, 32, 3)"
      ]
     },
     "execution_count": 100,
     "metadata": {},
     "output_type": "execute_result"
    },
    {
     "data": {
      "text/plain": [
       "(50, 10)"
      ]
     },
     "execution_count": 100,
     "metadata": {},
     "output_type": "execute_result"
    }
   ],
   "source": [
    "(x_test[begin:begin+50]).shape\n",
    "pred_l[0].shape"
   ]
  },
  {
   "cell_type": "code",
   "execution_count": 101,
   "metadata": {},
   "outputs": [
    {
     "data": {
      "text/plain": [
       "(10000,)"
      ]
     },
     "execution_count": 101,
     "metadata": {},
     "output_type": "execute_result"
    }
   ],
   "source": [
    "pred=np.concatenate(pred_l)\n",
    "pred=np.argmax(pred,axis=1)\n",
    "pred=pred[:10000]\n",
    "pred.shape"
   ]
  },
  {
   "cell_type": "code",
   "execution_count": 102,
   "metadata": {},
   "outputs": [],
   "source": [
    "y_test=y_test.reshape((10000,))"
   ]
  },
  {
   "cell_type": "code",
   "execution_count": 103,
   "metadata": {},
   "outputs": [],
   "source": [
    "from sklearn.metrics import confusion_matrix\n",
    "conf = confusion_matrix(y_test, pred,np.arange(0,10)).astype(float)"
   ]
  },
  {
   "cell_type": "code",
   "execution_count": 104,
   "metadata": {},
   "outputs": [],
   "source": [
    "# y_test[:5]\n",
    "# pred[:5]\n",
    "# plt.plot(np.sort(y_test))\n",
    "# plt.plot(np.sort(pred))"
   ]
  },
  {
   "cell_type": "code",
   "execution_count": 105,
   "metadata": {},
   "outputs": [
    {
     "data": {
      "text/plain": [
       "<matplotlib.image.AxesImage at 0x7f295144cc50>"
      ]
     },
     "execution_count": 105,
     "metadata": {},
     "output_type": "execute_result"
    },
    {
     "data": {
      "image/png": "[encoded data removed]",
      "text/plain": [
       "<matplotlib.figure.Figure at 0x7f2951618750>"
      ]
     },
     "metadata": {},
     "output_type": "display_data"
    }
   ],
   "source": [
    "plt.matshow(conf)"
   ]
  },
  {
   "cell_type": "code",
   "execution_count": 106,
   "metadata": {},
   "outputs": [
    {
     "data": {
      "text/plain": [
       "(<matplotlib.figure.Figure at 0x7f295141e310>,\n",
       " <matplotlib.axes._subplots.AxesSubplot at 0x7f295141e9d0>)"
      ]
     },
     "execution_count": 106,
     "metadata": {},
     "output_type": "execute_result"
    },
    {
     "data": {
      "image/png": "[encoded data removed]",
      "text/plain": [
       "<matplotlib.figure.Figure at 0x7f295141e310>"
      ]
     },
     "metadata": {},
     "output_type": "display_data"
    }
   ],
   "source": [
    "def matshow(angles, ax=None, fill=False):\n",
    "    angles=angles.copy()\n",
    "    if fill:\n",
    "        np.fill_diagonal(angles, np.nan)\n",
    "    if ax is None:\n",
    "        fig, ax = plt.subplots()\n",
    "        cax = ax.matshow(angles)\n",
    "        ax.grid('off')\n",
    "        ax.axis('off')\n",
    "        fig.colorbar(cax)\n",
    "        return fig, ax\n",
    "    else:\n",
    "        im = ax.matshow(angles)\n",
    "        ax.axis('off')\n",
    "        ax.grid('off')\n",
    "        from mpl_toolkits.axes_grid1 import make_axes_locatable\n",
    "        divider = make_axes_locatable(ax)\n",
    "        cax = divider.append_axes(\"right\", size=\"20%\", pad=.1)\n",
    "        cbar = plt.colorbar(im, cax=cax)\n",
    "        return ax\n",
    "matshow(conf,fill=True)    "
   ]
  },
  {
   "cell_type": "code",
   "execution_count": 113,
   "metadata": {},
   "outputs": [],
   "source": [
    "parent_f = {\n",
    "    2: 3, 3: 5, 5: 5,\n",
    "    1: 2, 7: 6, 4: 6,\n",
    "    0: 0, 6: 4, 8: 1, 9: 2\n",
    "}\n",
    "parent_f = {\n",
    "    0: 0, 1: 0, 2: 0,\n",
    "    3: 1, 4: 1, 5: 1, 6: 1\n",
    "}"
   ]
  },
  {
   "cell_type": "code",
   "execution_count": 114,
   "metadata": {},
   "outputs": [],
   "source": [
    "pr={}\n",
    "for k,v in parent_f.items():\n",
    "    if v not in pr:\n",
    "        pr[v]=[k]\n",
    "    else:\n",
    "        pr[v].append(k)"
   ]
  },
  {
   "cell_type": "code",
   "execution_count": 115,
   "metadata": {},
   "outputs": [],
   "source": [
    "t2=np.zeros_like(conf)\n",
    "for k,v in pr.items():\n",
    "    for v1 in v:\n",
    "        for v2 in v:\n",
    "            t2[v1,v2]=1        "
   ]
  },
  {
   "cell_type": "code",
   "execution_count": 116,
   "metadata": {},
   "outputs": [
    {
     "data": {
      "text/plain": [
       "(<matplotlib.figure.Figure at 0x7f2951409b90>,\n",
       " <matplotlib.axes._subplots.AxesSubplot at 0x7f295148f2d0>)"
      ]
     },
     "execution_count": 116,
     "metadata": {},
     "output_type": "execute_result"
    },
    {
     "data": {
      "image/png": "[encoded data removed]",
      "text/plain": [
       "<matplotlib.figure.Figure at 0x7f2951409b90>"
      ]
     },
     "metadata": {},
     "output_type": "display_data"
    }
   ],
   "source": [
    "matshow(t2,fill=True)"
   ]
  },
  {
   "cell_type": "code",
   "execution_count": 117,
   "metadata": {},
   "outputs": [],
   "source": [
    "def calc_err(conf,t2):\n",
    "    conf=conf.copy()\n",
    "    t2=t2.copy()\n",
    "    np.fill_diagonal(conf,np.nan)\n",
    "    np.fill_diagonal(t2,np.nan)\n",
    "    t2_cnt=0\n",
    "    t1_cnt=0\n",
    "    for c,t in zip(conf.flatten(),t2.flatten()):\n",
    "        if np.isnan(c): continue\n",
    "        if t==1:\n",
    "            t2_cnt+=c\n",
    "        else:\n",
    "            t1_cnt+=c\n",
    "    return t1_cnt,t2_cnt\n",
    "t1e,t2e=calc_err(conf,t2)\n",
    "t1e/=10000.\n",
    "t2e/=10000."
   ]
  },
  {
   "cell_type": "code",
   "execution_count": 118,
   "metadata": {},
   "outputs": [
    {
     "data": {
      "text/plain": [
       "(0.17420000000000002, 0.1069, 0.067299999999999999)"
      ]
     },
     "execution_count": 118,
     "metadata": {},
     "output_type": "execute_result"
    }
   ],
   "source": [
    "1-np.mean(y_test==pred),t1e,t2e"
   ]
  },
  {
   "cell_type": "code",
   "execution_count": null,
   "metadata": {},
   "outputs": [],
   "source": []
  }
 ],
 "metadata": {
  "kernelspec": {
   "display_name": "Python 2",
   "language": "python",
   "name": "python2"
  },
  "language_info": {
   "codemirror_mode": {
    "name": "ipython",
    "version": 2
   },
   "file_extension": ".py",
   "mimetype": "text/x-python",
   "name": "python",
   "nbconvert_exporter": "python",
   "pygments_lexer": "ipython2",
   "version": "2.7.12"
  }
 },
 "nbformat": 4,
 "nbformat_minor": 2
}
