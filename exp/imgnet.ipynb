{
 "cells": [
  {
   "cell_type": "code",
   "execution_count": 2,
   "metadata": {},
   "outputs": [],
   "source": [
    "from utils import *\n",
    "from metadata import *\n",
    "from hypers import imagenet as FLAGS\n",
    "import utils\n",
    "import tensorflow as tf\n",
    "# utils.init_dev(utils.get_dev())\n",
    "# utils.allow_growth()\n",
    "\n",
    "%load_ext autoreload\n",
    "# %reload_ext autoreload\n",
    "%autoreload 2\n",
    "%matplotlib inline\n",
    "import matplotlib\n",
    "matplotlib.style.use('ggplot')\n",
    "\n",
    "from IPython.core.interactiveshell import InteractiveShell\n",
    "InteractiveShell.ast_node_interactivity = \"all\""
   ]
  },
  {
   "cell_type": "code",
   "execution_count": 6,
   "metadata": {},
   "outputs": [],
   "source": [
    "from download_imagenet import  download_file_simple\n",
    "\n",
    "download_file_simple('n03692522','./tmp.tar')\n",
    "\n",
    "!mkdir tmp \n",
    "!tar xf tmp.tar -C tmp\n",
    "\n",
    "!eog tmp/n03692522_10074.JPEG"
   ]
  },
  {
   "cell_type": "code",
   "execution_count": 4,
   "metadata": {},
   "outputs": [],
   "source": [
    "model_path='/mnt/gv7/16winter/16winter/ijcai/resnet101/model.parrots'\n",
    "out_path='/home/wangxinglu/prj/few-shot/models/resnet101/model.10k.parrots'\n",
    "\n",
    "import h5py\n",
    "\n",
    "!cp $model_path $out_path"
   ]
  },
  {
   "cell_type": "code",
   "execution_count": 15,
   "metadata": {},
   "outputs": [
    {
     "data": {
      "text/plain": [
       "((10000, 2048), (10000,))"
      ]
     },
     "execution_count": 15,
     "metadata": {},
     "output_type": "execute_result"
    }
   ],
   "source": [
    "model = h5py.File(out_path)\n",
    "wn='caffe_InnerProduct_340_0@value'\n",
    "bn='caffe_InnerProduct_340_1@value'\n",
    "weight=model[wn][...]\n",
    "bias=model[bn][...]\n",
    "weight.shape,bias.shape\n",
    "names = [name for name in model]"
   ]
  },
  {
   "cell_type": "code",
   "execution_count": 11,
   "metadata": {},
   "outputs": [
    {
     "data": {
      "text/plain": [
       "(10000, 2048)"
      ]
     },
     "execution_count": 11,
     "metadata": {},
     "output_type": "execute_result"
    }
   ],
   "source": [
    "np.repeat(weight,10,axis=0).shape"
   ]
  },
  {
   "cell_type": "code",
   "execution_count": 13,
   "metadata": {},
   "outputs": [
    {
     "data": {
      "text/plain": [
       "<HDF5 dataset \"caffe_InnerProduct_340_0@value\": shape (10000, 2048), type \"<f8\">"
      ]
     },
     "execution_count": 13,
     "metadata": {},
     "output_type": "execute_result"
    },
    {
     "data": {
      "text/plain": [
       "<HDF5 dataset \"caffe_InnerProduct_340_1@value\": shape (10000,), type \"<f8\">"
      ]
     },
     "execution_count": 13,
     "metadata": {},
     "output_type": "execute_result"
    }
   ],
   "source": [
    "del model[wn]\n",
    "model.create_dataset(wn,data=np.repeat(weight,10,axis=0))\n",
    "del model[bn]\n",
    "model.create_dataset(bn,data=np.repeat(bias,10,axis=0))"
   ]
  },
  {
   "cell_type": "code",
   "execution_count": 14,
   "metadata": {},
   "outputs": [],
   "source": [
    "model.close()"
   ]
  }
 ],
 "metadata": {
  "kernelspec": {
   "display_name": "Python 2",
   "language": "python",
   "name": "python2"
  },
  "language_info": {
   "codemirror_mode": {
    "name": "ipython",
    "version": 2
   },
   "file_extension": ".py",
   "mimetype": "text/x-python",
   "name": "python",
   "nbconvert_exporter": "python",
   "pygments_lexer": "ipython2",
   "version": "2.7.12"
  }
 },
 "nbformat": 4,
 "nbformat_minor": 2
}
