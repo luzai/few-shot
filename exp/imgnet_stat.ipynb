{
 "cells": [
  {
   "cell_type": "code",
   "execution_count": null,
   "metadata": {},
   "outputs": [],
   "source": [
    "from utils import *\n",
    "from metadata import *\n",
    "import utils\n",
    "utils.init_dev(utils.get_dev())\n",
    "utils.allow_growth()\n",
    "\n",
    "%load_ext autoreload\n",
    "# %reload_ext autoreload\n",
    "%autoreload 2\n",
    "%matplotlib inline\n",
    "import matplotlib\n",
    "matplotlib.style.use('ggplot')\n",
    "\n",
    "from IPython.core.interactiveshell import InteractiveShell\n",
    "InteractiveShell.ast_node_interactivity = \"all\"\n",
    " \n"
   ]
  },
  {
   "cell_type": "code",
   "execution_count": 6,
   "metadata": {
    "collapsed": true
   },
   "outputs": [],
   "source": [
    "tree=ori_tree\n",
    "tree2=tree=slim_tree(tree,'imagenet1k')"
   ]
  },
  {
   "cell_type": "code",
   "execution_count": 7,
   "metadata": {
    "collapsed": true
   },
   "outputs": [],
   "source": [
    "def find_child(tree_,node):\n",
    "    res=[]\n",
    "    try:\n",
    "        for node in nx.dfs_preorder_nodes(tree_,node):\n",
    "            imagepath=get_imagepath(node).strip('.tar')\n",
    "            if osp.exists(imagepath) and tree_.node[node]['nchild'] == 0:\n",
    "                res.append(node)\n",
    "    except Exception as inst : \n",
    "        print inst,'wrong'        \n",
    "    return res "
   ]
  },
  {
   "cell_type": "code",
   "execution_count": null,
   "metadata": {
    "collapsed": true
   },
   "outputs": [],
   "source": [
    "@chdir_to_root\n",
    "def nimg_per_class(tree_):\n",
    "    all_nimg = []\n",
    "    for node in nx.dfs_preorder_nodes(tree_, 'fall11'):\n",
    "        imagepath = get_imagepath(node).strip('.tar')\n",
    "        if osp.exists(imagepath) and tree_.node[node]['nchild'] == 0:\n",
    "            nimg = len(os.listdir(imagepath))\n",
    "            all_nimg.append(nimg)\n",
    "            if nimg == 0:\n",
    "                print node\n",
    "                rm(imagepath)\n",
    "        elif tree_.node[node]['nchild'] >0 and node in imagenet1k:\n",
    "            nimg_=0\n",
    "            for node_ in find_child(tree_,node):\n",
    "                imagepath=get_imagepath(node_).strip('.tar') \n",
    "                nimg_+=len(os.listdir(imagepath)) \n",
    "#             if nimg_>2000:\n",
    "#                 print node\n",
    "            all_nimg.append(nimg_) \n",
    "                \n",
    "    return np.sort(all_nimg)[::-1]\n"
   ]
  },
  {
   "cell_type": "code",
   "execution_count": null,
   "metadata": {
    "collapsed": true
   },
   "outputs": [],
   "source": [
    "def stat_info(imagenet1k):\n",
    "    nimgs=[]\n",
    "    for node in imagenet1k:\n",
    "        imagepath = get_imagepath(node).strip('.tar')\n",
    "        if osp.exists(imagepath):\n",
    "            nimgs.append(len(os.listdir(imagepath))) \n",
    "        else:\n",
    "            nimg=0\n",
    "            for node_ in find_child(ori_tree,node): \n",
    "                imagepath=get_imagepath(node_).strip('.tar')\n",
    "                nimg+=len(os.listdir(imagepath)) \n",
    "            if nimg ==0:\n",
    "                print node_\n",
    "            else:\n",
    "                nimgs.append(nimg) \n",
    "\n",
    "    nimgs = np.sort(nimgs)[::-1]\n",
    "    sum(nimgs),sum(nimgs)/len(nimgs),len(nimgs)\n",
    "\n",
    "    _=plt.hist(nimgs)\n",
    "    plt.figure()\n",
    "    plt.plot(nimgs[:])\n",
    "    plt.yscale('log') \n",
    "    return nimgs"
   ]
  },
  {
   "cell_type": "code",
   "execution_count": null,
   "metadata": {},
   "outputs": [],
   "source": [
    "for imagenet in [imagenet1k,imagenet7k,imagenet22k]:\n",
    "    stat_info(imagenet)"
   ]
  },
  {
   "cell_type": "code",
   "execution_count": 29,
   "metadata": {
    "collapsed": true
   },
   "outputs": [],
   "source": [
    "nimgs={}\n",
    "os.chdir('/mnt/nfs1703/kchen/imagenet-raw/')\n",
    "for d in os.listdir('.'):\n",
    "    nimgs[d]=len(os.listdir(d))\n",
    "\n",
    "names,vals = np.array(nimgs.keys()),np.array(nimgs.values())\n",
    "\n",
    "len(nimgs)\n",
    "\n",
    "nimgs=utils.unpickle('./nimgs.pkl')"
   ]
  }
 ],
 "metadata": {
  "kernelspec": {
   "display_name": "Python [default]",
   "language": "python",
   "name": "python2"
  },
  "language_info": {
   "codemirror_mode": {
    "name": "ipython",
    "version": 2
   },
   "file_extension": ".py",
   "mimetype": "text/x-python",
   "name": "python",
   "nbconvert_exporter": "python",
   "pygments_lexer": "ipython2",
   "version": "2.7.13"
  }
 },
 "nbformat": 4,
 "nbformat_minor": 2
}
