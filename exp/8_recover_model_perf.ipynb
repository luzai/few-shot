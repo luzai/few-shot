{
 "cells": [
  {
   "cell_type": "code",
   "execution_count": null,
   "metadata": {
    "scrolled": false
   },
   "outputs": [],
   "source": [
    "%cd ../src\n",
    "from loader import * \n",
    "from datasets import *\n",
    "from vis_utils import *\n",
    "from utils import *\n",
    "from stats import * \n",
    "from model_utils import *\n",
    "from logs import logger\n",
    "import logs,datasets,vis_utils,loader\n",
    "logger.setLevel(logs.WARN)\n",
    "%load_ext autoreload\n",
    "%reload_ext autoreload\n",
    "\n",
    "%autoreload 2\n",
    "matplotlib.style.use('ggplot')\n",
    "%matplotlib inline\n",
    "\n",
    "from multiprocessing import Pool, cpu_count\n",
    "import math\n",
    "import psutil\n",
    "import os\n",
    "p=psutil.Process(os.getpid())\n",
    "# p.nice(19)\n",
    "p\n",
    "# utils.init_dev(utils.get_dev(ok=(3,)))\n",
    "# utils.allow_growth()"
   ]
  },
  {
   "cell_type": "code",
   "execution_count": 52,
   "metadata": {},
   "outputs": [
    {
     "name": "stdout",
     "output_type": "stream",
     "text": [
      "7.11110186577\n"
     ]
    },
    {
     "data": {
      "text/plain": [
       "((291, 2925), (291, 2925), (70, 6))"
      ]
     },
     "execution_count": 52,
     "metadata": {},
     "output_type": "execute_result"
    },
    {
     "data": {
      "image/png": "[encoded data removed]",
      "text/plain": [
       "<matplotlib.figure.Figure at 0x7f846817a110>"
      ]
     },
     "metadata": {},
     "output_type": "display_data"
    }
   ],
   "source": [
    "vis=Visualizer(paranet_folder='stat')\n",
    "\n",
    "lr=vis.lr.copy()\n",
    "\n",
    "lr.plot(legend=False,style='.',subplots=True)\n",
    "\n",
    "df=vis.stat_df.loc[:15000,:].copy()\n",
    "vis.loc(15000)\n",
    "\n",
    "df.shape,vis.stat_df.shape,vis.lr.shape"
   ]
  },
  {
   "cell_type": "code",
   "execution_count": 56,
   "metadata": {
    "scrolled": true
   },
   "outputs": [
    {
     "data": {
      "text/plain": [
       "[Index([u'resnet10', u'vgg10'], dtype='object', name=u'model_type'),\n",
       " Index([u'Layer10/fc', u'Layer10/softmax', u'Layer12/fc', u'Layer12/softmax',\n",
       "        u'layer0/input', u'layer1/conv', u'layer10/fc', u'layer11/fc',\n",
       "        u'layer2/conv', u'layer3/add', u'layer3/conv', u'layer4/conv',\n",
       "        u'layer5/add', u'layer5/conv', u'layer5/conv-s', u'layer6/conv',\n",
       "        u'layer7/add', u'layer7/conv', u'layer8/conv', u'layer8/fc',\n",
       "        u'layer9/add', u'layer9/conv', u'layer9/conv-s', u'layer9/fc'],\n",
       "       dtype='object', name=u'layer'),\n",
       " Index([u'_decay_epoch-25_lr_0.01_name_sgd_decay-10',\n",
       "        u'_decay_epoch-49_lr_0.01_name_sgd_decay-10', u'_lr_0.01_name_sgd'],\n",
       "       dtype='object', name=u'optimizer'),\n",
       " Index([u'act/iqr', u'act/magnitude', u'act/max', u'act/mean', u'act/median',\n",
       "        u'act/min', u'act/orthochnl', u'act/orthochnlabs', u'act/orthosmpl',\n",
       "        u'act/orthosmplabs', u'act/ptrate', u'act/sparsity', u'act/std',\n",
       "        u'act/stdtime', u'act/totvar', u'bias/iqr', u'bias/magnitude',\n",
       "        u'bias/max', u'bias/mean', u'bias/median', u'bias/min', u'bias/std',\n",
       "        u'bias/stdtime', u'bias/totvar', u'kernel/iqr', u'kernel/magnitude',\n",
       "        u'kernel/max', u'kernel/mean', u'kernel/median', u'kernel/min',\n",
       "        u'kernel/ortho', u'kernel/orthoabs', u'kernel/sparsity', u'kernel/std',\n",
       "        u'kernel/stdtime', u'kernel/totvar', u'kernel/updateratio'],\n",
       "       dtype='object', name=u'stat')]"
      ]
     },
     "execution_count": 56,
     "metadata": {},
     "output_type": "execute_result"
    }
   ],
   "source": [
    "df.head()\n",
    "list(df.columns.levels)\n",
    "\n",
    "vis1 = vis.copy()\n",
    "vis1.select({'model_type': 'vgg10', 'optimizer': '_lr_0.01_name_sgd'}, regexp=False)\n",
    "vis1.auto_plot()\n",
    "\n",
    "vis1 = vis.copy()\n",
    "vis1.select({'model_type': 'resnet10', 'optimizer': '_lr_0.01_name_sgd'}, regexp=False)\n",
    "vis1.auto_plot()\n",
    "\n",
    "vis1 = vis.copy()\n",
    "vis1.select({'model_type': 'resnet10'})\n",
    "vis1.auto_plot(('layer', 'stat', 'optimizer'))\n",
    "\n",
    "vis1 = vis.copy()\n",
    "vis1.select({'model_type': 'vgg10'})\n",
    "vis1.auto_plot(('layer', 'stat', 'optimizer'))"
   ]
  },
  {
   "cell_type": "code",
   "execution_count": 2,
   "metadata": {},
   "outputs": [
    {
     "data": {
      "text/plain": [
       "('/home/wangxinglu/prj/Perf_Pred/output/vgg10_cifar10_hiddens_20_optimizer__lr_0.01_name_sgd/model.h5',\n",
       " '/home/wangxinglu/prj/Perf_Pred/output/resnet10_cifar10_hiddens_20_optimizer__decay_epoch-49_lr_0.01_name_sgd_decay-10/model.h5',\n",
       " '/home/wangxinglu/prj/Perf_Pred/output/resnet10_cifar10_hiddens_20_optimizer__decay_epoch-25_lr_0.01_name_sgd_decay-10/model.h5')"
      ]
     },
     "execution_count": 2,
     "metadata": {},
     "output_type": "execute_result"
    }
   ],
   "source": [
    "path=glob.glob(root_path+'/output/*/model.h5')\n",
    "path\n",
    "\n",
    "path[1],path[3],path[5]\n"
   ]
  },
  {
   "cell_type": "code",
   "execution_count": 3,
   "metadata": {
    "collapsed": true
   },
   "outputs": [],
   "source": [
    "model1=keras.models.load_model(path[1])\n",
    "model2=keras.models.load_model(path[3])\n",
    "model3=keras.models.load_model(path[5])\n",
    "\n",
    "from model_utils import * "
   ]
  },
  {
   "cell_type": "code",
   "execution_count": 10,
   "metadata": {},
   "outputs": [
    {
     "name": "stdout",
     "output_type": "stream",
     "text": [
      "(50000, 32, 32, 3)\n",
      " 9472/10000 [===========================>..] - ETA: 0s"
     ]
    },
    {
     "data": {
      "text/plain": [
       "0.1062"
      ]
     },
     "execution_count": 10,
     "metadata": {},
     "output_type": "execute_result"
    }
   ],
   "source": [
    "evaluate(model4)\n",
    "\n",
    "evaluate(model3)\n",
    "\n",
    "evaluate(model1),evaluate(model2),evaluate(model3)\n",
    "\n",
    "evaluate(migrate_to(model2,model3)),\n",
    "\n",
    "evaluate(migrate_to(model1,model3)),evaluate(migrate_to(model3,model2)),\n",
    "\n",
    "weight=get_last_weight(model3)\n",
    "from model_utils import * \n",
    "# weight=perm(weight)\n",
    "# weight=exchange_col(weight,1,2)\n",
    "x,y=get_one_class_data(0)\n",
    "\n",
    "evaluate(migrate_to(weight,model3),x,y)\n",
    "\n",
    "weight=get_last_weight(model3)\n",
    "from model_utils import * \n",
    "# weight=perm(weight)\n",
    "weight=exchange_col(weight,1,2)\n",
    "x,y=get_one_class_data(0)\n",
    "\n",
    "evaluate(migrate_to(weight,model3),x,y)\n",
    "\n",
    "weight=get_last_weight(model3)\n",
    "from model_utils import * \n",
    "# weight=perm(weight)\n",
    "weight=exchange_col(weight,3,5)\n",
    "\n",
    "\n",
    "evaluate(migrate_to(weight,model3),x,y)"
   ]
  },
  {
   "cell_type": "code",
   "execution_count": 8,
   "metadata": {},
   "outputs": [
    {
     "name": "stdout",
     "output_type": "stream",
     "text": [
      "(50000, 32, 32, 3)\n",
      " 9472/10000 [===========================>..] - ETA: 0s"
     ]
    },
    {
     "data": {
      "text/plain": [
       "0.72289999999999999"
      ]
     },
     "execution_count": 8,
     "metadata": {},
     "output_type": "execute_result"
    }
   ],
   "source": [
    "evaluate(model3)"
   ]
  },
  {
   "cell_type": "code",
   "execution_count": 7,
   "metadata": {},
   "outputs": [
    {
     "name": "stdout",
     "output_type": "stream",
     "text": [
      "(50000, 32, 32, 3)\n",
      " 9984/10000 [============================>.] - ETA: 0s(50000, 32, 32, 3)\n",
      " 9472/10000 [===========================>..] - ETA: 0s(50000, 32, 32, 3)\n",
      " 9472/10000 [===========================>..] - ETA: 0s"
     ]
    },
    {
     "data": {
      "text/plain": [
       "(0.81710000000000005, 0.71879999999999999, 0.72289999999999999)"
      ]
     },
     "execution_count": 7,
     "metadata": {},
     "output_type": "execute_result"
    }
   ],
   "source": [
    "evaluate(model1),evaluate(model2),evaluate(model3)"
   ]
  },
  {
   "cell_type": "code",
   "execution_count": 8,
   "metadata": {},
   "outputs": [
    {
     "name": "stdout",
     "output_type": "stream",
     "text": [
      "(50000, 32, 32, 3)\n",
      " 9472/10000 [===========================>..] - ETA: 0s"
     ]
    },
    {
     "data": {
      "text/plain": [
       "(0.72330000000000005,)"
      ]
     },
     "execution_count": 8,
     "metadata": {},
     "output_type": "execute_result"
    }
   ],
   "source": [
    "evaluate(migrate_to(model2,model3)),"
   ]
  },
  {
   "cell_type": "code",
   "execution_count": 9,
   "metadata": {},
   "outputs": [
    {
     "name": "stdout",
     "output_type": "stream",
     "text": [
      "(50000, 32, 32, 3)\n",
      " 9472/10000 [===========================>..] - ETA: 0s(50000, 32, 32, 3)\n",
      " 9472/10000 [===========================>..] - ETA: 0s"
     ]
    },
    {
     "data": {
      "text/plain": [
       "(0.1036, 0.71809999999999996)"
      ]
     },
     "execution_count": 9,
     "metadata": {},
     "output_type": "execute_result"
    }
   ],
   "source": [
    "evaluate(migrate_to(model1,model3)),evaluate(migrate_to(model3,model2)),"
   ]
  },
  {
   "cell_type": "code",
   "execution_count": 34,
   "metadata": {},
   "outputs": [
    {
     "name": "stdout",
     "output_type": "stream",
     "text": [
      "(50000, 32, 32, 3)\n",
      "1000/1000 [==============================] - 2s     \n"
     ]
    },
    {
     "data": {
      "text/plain": [
       "0.77100001239776617"
      ]
     },
     "execution_count": 34,
     "metadata": {},
     "output_type": "execute_result"
    }
   ],
   "source": [
    "weight=get_last_weight(model3)\n",
    "from model_utils import * \n",
    "# weight=perm(weight)\n",
    "# weight=exchange_col(weight,1,2)\n",
    "x,y=get_one_class_data(0)\n",
    "\n",
    "evaluate(migrate_to(weight,model3),x,y)"
   ]
  },
  {
   "cell_type": "code",
   "execution_count": 35,
   "metadata": {
    "scrolled": true
   },
   "outputs": [
    {
     "name": "stdout",
     "output_type": "stream",
     "text": [
      "(50000, 32, 32, 3)\n",
      "1000/1000 [==============================] - 2s     \n"
     ]
    },
    {
     "data": {
      "text/plain": [
       "0.7709999847412109"
      ]
     },
     "execution_count": 35,
     "metadata": {},
     "output_type": "execute_result"
    }
   ],
   "source": [
    "weight=get_last_weight(model3)\n",
    "from model_utils import * \n",
    "# weight=perm(weight)\n",
    "weight=exchange_col(weight,1,2)\n",
    "x,y=get_one_class_data(0)\n",
    "\n",
    "evaluate(migrate_to(weight,model3),x,y)"
   ]
  },
  {
   "cell_type": "code",
   "execution_count": 36,
   "metadata": {},
   "outputs": [
    {
     "name": "stdout",
     "output_type": "stream",
     "text": [
      "(50000, 32, 32, 3)\n",
      "1000/1000 [==============================] - 2s     \n"
     ]
    },
    {
     "data": {
      "text/plain": [
       "0.77100001239776617"
      ]
     },
     "execution_count": 36,
     "metadata": {},
     "output_type": "execute_result"
    }
   ],
   "source": [
    "weight=get_last_weight(model3)\n",
    "from model_utils import * \n",
    "# weight=perm(weight)\n",
    "weight=exchange_col(weight,3,5)\n",
    "\n",
    "\n",
    "evaluate(migrate_to(weight,model3),x,y)"
   ]
  },
  {
   "cell_type": "code",
   "execution_count": 4,
   "metadata": {},
   "outputs": [
    {
     "name": "stdout",
     "output_type": "stream",
     "text": [
      "(50000, 32, 32, 3)\n"
     ]
    },
    {
     "data": {
      "text/plain": [
       "(1000, 32, 32, 3)"
      ]
     },
     "execution_count": 4,
     "metadata": {},
     "output_type": "execute_result"
    }
   ],
   "source": [
    "weight=get_last_weight(model3)\n",
    "weight=perm(weight)\n",
    "\n",
    "x.shape"
   ]
  },
  {
   "cell_type": "code",
   "execution_count": null,
   "metadata": {
    "scrolled": true
   },
   "outputs": [],
   "source": [
    "mapping={}\n",
    "\n",
    "for mapf in range(10):\n",
    "    res=[]\n",
    "    x,y=get_one_class_data(mapf,limit=False)\n",
    "    for ind in range(10):\n",
    "        new_wei=exchange_col(weight,mapf,ind)\n",
    "        acc=evaluate(migrate_to(new_wei,model3),x,y)\n",
    "        res.append(acc) \n",
    "#         print acc\n",
    "    print '\\n',res\n",
    "    mapping[mapf] = np.argmax(res) "
   ]
  },
  {
   "cell_type": "code",
   "execution_count": 17,
   "metadata": {},
   "outputs": [
    {
     "data": {
      "text/plain": [
       "[3, 6, 7, 4, 8, 5, 9, 2, 1, 0]"
      ]
     },
     "execution_count": 17,
     "metadata": {},
     "output_type": "execute_result"
    }
   ],
   "source": [
    "mapping.values()"
   ]
  },
  {
   "cell_type": "code",
   "execution_count": 19,
   "metadata": {},
   "outputs": [
    {
     "name": "stdout",
     "output_type": "stream",
     "text": [
      "(50000, 32, 32, 3)\n"
     ]
    },
    {
     "data": {
      "text/plain": [
       "0.72289999999999999"
      ]
     },
     "execution_count": 19,
     "metadata": {},
     "output_type": "execute_result"
    }
   ],
   "source": [
    "res_wei = weight[:,mapping.values()]\n",
    "evaluate(migrate_to(res_wei,model3))"
   ]
  },
  {
   "cell_type": "markdown",
   "metadata": {
    "collapsed": true
   },
   "source": [
    "## Copy from Vgg to Resnet"
   ]
  },
  {
   "cell_type": "code",
   "execution_count": 20,
   "metadata": {
    "collapsed": true
   },
   "outputs": [],
   "source": [
    "weight=get_last_weight(model1)"
   ]
  },
  {
   "cell_type": "code",
   "execution_count": 25,
   "metadata": {},
   "outputs": [
    {
     "name": "stdout",
     "output_type": "stream",
     "text": [
      "(50000, 32, 32, 3)\n",
      "\n",
      "[0.83800000476837155, 0.092999998748302462, 0.028000000298023225, 0.0, 0.0040000000000000001, 0.0, 0.0, 0.0, 0.023000000193715096, 0.01399999988079071]\n",
      "0.838000004768\n",
      "(50000, 32, 32, 3)\n",
      "\n",
      "[0.17700000035762786, 0.086999999165534969, 0.058000000596046444, 0.0, 0.001, 0.035999999642372132, 0.0, 0.0, 0.63999999332427981, 0.001]\n",
      "0.639999993324\n",
      "(50000, 32, 32, 3)\n",
      "\n",
      "[0.29300000071525573, 0.191, 0.02799999998509884, 0.0, 0.0, 0.0, 0.0, 0.0, 0.068000000476837158, 0.41999999666213989]\n",
      "0.419999996662\n",
      "(50000, 32, 32, 3)\n",
      "\n",
      "[0.18599999964237213, 0.27700000238418582, 0.31200000381469728, 0.0, 0.0, 0.0, 0.0, 0.0, 0.17000000059604645, 0.05500000047683716]\n",
      "0.312000003815\n",
      "(50000, 32, 32, 3)\n",
      "\n",
      "[0.74299999189376831, 0.088999998748302458, 0.0069999998807907101, 0.001, 0.0, 0.001, 0.0, 0.0, 0.11699999892711639, 0.042000000178813932]\n",
      "0.742999991894\n",
      "(50000, 32, 32, 3)\n",
      "\n",
      "[0.10599999785423279, 0.61500001144409178, 0.18799999964237213, 0.0, 0.0, 0.001, 0.0, 0.0, 0.069999999940395352, 0.020000000193715096]\n",
      "0.615000011444\n",
      "(50000, 32, 32, 3)\n",
      "\n",
      "[0.33699999666213987, 0.09099999970197678, 0.097000000655651092, 0.0, 0.0, 0.002, 0.0, 0.0, 0.10399999994039535, 0.368999990940094]\n",
      "0.36899999094\n",
      "(50000, 32, 32, 3)\n",
      "\n",
      "[0.21200000035762787, 0.74799998950958257, 0.0049999999925494192, 0.0, 0.0, 0.0, 0.00099999999627470976, 0.0, 0.014999999999999999, 0.018999999880790711]\n",
      "0.74799998951\n",
      "(50000, 32, 32, 3)\n",
      "\n",
      "[0.78999998235702518, 0.069999999940395352, 0.057999999523162843, 0.0, 0.0, 0.001, 0.0, 0.0, 0.078999999165534976, 0.002]\n",
      "0.789999982357\n",
      "(50000, 32, 32, 3)\n",
      "\n",
      "[0.51800001001358031, 0.089999998271465306, 0.33199999618530274, 0.0, 0.0, 0.0079999999962747093, 0.001, 0.0, 0.048000000178813937, 0.0030000000000000001]\n",
      "0.518000010014\n"
     ]
    }
   ],
   "source": [
    "mapping={}\n",
    "\n",
    "for mapf in range(10):\n",
    "    res=[]\n",
    "    x,y=get_one_class_data(mapf,limit=False)\n",
    "    for ind in range(10):\n",
    "        new_wei=exchange_col(weight,mapf,ind)\n",
    "        acc=evaluate(migrate_to(new_wei,model3),x,y)\n",
    "        res.append(acc) \n",
    "#         print acc\n",
    "    print '\\n',res\n",
    "    mapping[mapf] = np.argmax(res) \n",
    "    print max(res)"
   ]
  },
  {
   "cell_type": "code",
   "execution_count": 22,
   "metadata": {},
   "outputs": [
    {
     "data": {
      "text/plain": [
       "{0: 0, 1: 8, 2: 9, 3: 2, 4: 0, 5: 1, 6: 9, 7: 1, 8: 0, 9: 0}"
      ]
     },
     "execution_count": 22,
     "metadata": {},
     "output_type": "execute_result"
    }
   ],
   "source": [
    "mapping"
   ]
  },
  {
   "cell_type": "code",
   "execution_count": 35,
   "metadata": {},
   "outputs": [
    {
     "name": "stdout",
     "output_type": "stream",
     "text": [
      "0.841000004768\n",
      "0.672000011444\n",
      "0.419999996662\n",
      "0.312000003815\n",
      "0.0\n",
      "0.615999983788\n",
      "0.0\n",
      "0.0\n",
      "0.0\n",
      "0.0\n"
     ]
    }
   ],
   "source": [
    "res_wei = weight[:,mapping.values()]\n",
    "for ind in range(10):\n",
    "    x,y=get_one_class_data(ind)\n",
    "    print evaluate(migrate_to(res_wei,model3),x,y)"
   ]
  },
  {
   "cell_type": "code",
   "execution_count": 24,
   "metadata": {},
   "outputs": [
    {
     "name": "stdout",
     "output_type": "stream",
     "text": [
      "(50000, 32, 32, 3)\n"
     ]
    },
    {
     "data": {
      "text/plain": [
       "0.1036"
      ]
     },
     "execution_count": 24,
     "metadata": {},
     "output_type": "execute_result"
    }
   ],
   "source": [
    "evaluate(migrate_to(weight,model3))"
   ]
  },
  {
   "cell_type": "code",
   "execution_count": 45,
   "metadata": {},
   "outputs": [
    {
     "data": {
      "text/plain": [
       "[<matplotlib.lines.Line2D at 0x7f847b245bd0>]"
      ]
     },
     "execution_count": 45,
     "metadata": {},
     "output_type": "execute_result"
    },
    {
     "data": {
      "image/png": "[encoded data removed]",
      "text/plain": [
       "<matplotlib.figure.Figure at 0x7f847b245a90>"
      ]
     },
     "metadata": {},
     "output_type": "display_data"
    }
   ],
   "source": [
    "plt.plot(get_last_weight(model2)[:,0])\n",
    "plt.plot(res_wei[:,0])"
   ]
  },
  {
   "cell_type": "code",
   "execution_count": 2,
   "metadata": {},
   "outputs": [
    {
     "name": "stdout",
     "output_type": "stream",
     "text": [
      "1.27920889854\n"
     ]
    },
    {
     "data": {
      "text/html": [
       "<div>\n",
       "<style>\n",
       "    .dataframe thead tr:only-child th {\n",
       "        text-align: right;\n",
       "    }\n",
       "\n",
       "    .dataframe thead th {\n",
       "        text-align: left;\n",
       "    }\n",
       "\n",
       "    .dataframe tbody tr th {\n",
       "        vertical-align: top;\n",
       "    }\n",
       "</style>\n",
       "<table border=\"1\" class=\"dataframe\">\n",
       "  <thead>\n",
       "    <tr>\n",
       "      <th>model_type</th>\n",
       "      <th colspan=\"8\" halign=\"left\">resnet10</th>\n",
       "      <th colspan=\"8\" halign=\"left\">vgg10</th>\n",
       "    </tr>\n",
       "    <tr>\n",
       "      <th>hiddens</th>\n",
       "      <th colspan=\"4\" halign=\"left\">5</th>\n",
       "      <th colspan=\"4\" halign=\"left\">512</th>\n",
       "      <th colspan=\"4\" halign=\"left\">5</th>\n",
       "      <th colspan=\"4\" halign=\"left\">512</th>\n",
       "    </tr>\n",
       "    <tr>\n",
       "      <th>dataset_type</th>\n",
       "      <th colspan=\"4\" halign=\"left\">cifar10</th>\n",
       "      <th colspan=\"4\" halign=\"left\">cifar10</th>\n",
       "      <th colspan=\"4\" halign=\"left\">cifar10</th>\n",
       "      <th colspan=\"4\" halign=\"left\">cifar10</th>\n",
       "    </tr>\n",
       "    <tr>\n",
       "      <th>optimizer</th>\n",
       "      <th colspan=\"4\" halign=\"left\">_lr_0.01_name_sgd</th>\n",
       "      <th colspan=\"4\" halign=\"left\">_lr_0.01_name_sgd</th>\n",
       "      <th colspan=\"4\" halign=\"left\">_lr_0.01_name_sgd</th>\n",
       "      <th colspan=\"4\" halign=\"left\">_lr_0.01_name_sgd</th>\n",
       "    </tr>\n",
       "    <tr>\n",
       "      <th>name</th>\n",
       "      <th>Layer12/fc/act</th>\n",
       "      <th>Layer12/fc/in</th>\n",
       "      <th>Layer12/fc/kernel_1</th>\n",
       "      <th>Layer12/softmax/act</th>\n",
       "      <th>Layer12/fc/act</th>\n",
       "      <th>Layer12/fc/in</th>\n",
       "      <th>Layer12/fc/kernel_1</th>\n",
       "      <th>Layer12/softmax/act</th>\n",
       "      <th>Layer10/fc/act</th>\n",
       "      <th>Layer10/fc/in</th>\n",
       "      <th>Layer10/fc/kernel_1</th>\n",
       "      <th>Layer10/softmax/act</th>\n",
       "      <th>Layer10/fc/act</th>\n",
       "      <th>Layer10/fc/in</th>\n",
       "      <th>Layer10/fc/kernel_1</th>\n",
       "      <th>Layer10/softmax/act</th>\n",
       "    </tr>\n",
       "    <tr>\n",
       "      <th>iter</th>\n",
       "      <th></th>\n",
       "      <th></th>\n",
       "      <th></th>\n",
       "      <th></th>\n",
       "      <th></th>\n",
       "      <th></th>\n",
       "      <th></th>\n",
       "      <th></th>\n",
       "      <th></th>\n",
       "      <th></th>\n",
       "      <th></th>\n",
       "      <th></th>\n",
       "      <th></th>\n",
       "      <th></th>\n",
       "      <th></th>\n",
       "      <th></th>\n",
       "    </tr>\n",
       "  </thead>\n",
       "  <tbody>\n",
       "    <tr>\n",
       "      <th>5</th>\n",
       "      <td>[[-0.010261, 0.15708, -0.192364, -0.328237, -0...</td>\n",
       "      <td>[[0.0, 0.0, 0.0, 0.444299, 0.0], [0.0, 0.0, 0....</td>\n",
       "      <td>[[0.695998, 0.662487, 0.476893, -1.00606, 0.00...</td>\n",
       "      <td>[[0.102739, 0.121454, 0.0856347, 0.0747551, 0....</td>\n",
       "      <td>[[0.039163, 0.419451, -0.481375, -0.328681, -0...</td>\n",
       "      <td>[[0.0, 0.0, 0.0, 0.223212, 0.33622, 0.0, 0.0, ...</td>\n",
       "      <td>[[0.0674471, 0.0637101, 0.0464512, -0.0992274,...</td>\n",
       "      <td>[[0.106228, 0.155381, 0.0631209, 0.0735339, 0....</td>\n",
       "      <td>[[0.00781416, 0.00303211, 0.00829018, -0.00066...</td>\n",
       "      <td>[[0.0, 0.0206263, 0.0, 0.0, 0.0], [0.0, 0.0212...</td>\n",
       "      <td>[[0.225322, 0.0638335, 0.430403, -0.144604, -0...</td>\n",
       "      <td>[[0.100157, 0.0996794, 0.100205, 0.0993117, 0....</td>\n",
       "      <td>[[0.00247733, -0.0371877, 0.017305, -0.0040755...</td>\n",
       "      <td>[[0.0, 0.000128069, 0.0, 0.0141188, 0.0127136,...</td>\n",
       "      <td>[[0.0394082, 0.0103396, 0.0747017, -0.0255243,...</td>\n",
       "      <td>[[0.100788, 0.0968686, 0.102294, 0.10013, 0.10...</td>\n",
       "    </tr>\n",
       "    <tr>\n",
       "      <th>18</th>\n",
       "      <td>[[0.0, 0.0, 0.0, 0.0, 0.0, 0.0, 0.0, 0.0, 0.0,...</td>\n",
       "      <td>[[0.0, 0.0, 0.0, 0.0, 0.0], [0.0, 0.0, 0.0, 0....</td>\n",
       "      <td>[[0.696064, 0.662476, 0.47683, -1.00604, 0.004...</td>\n",
       "      <td>[[0.1, 0.1, 0.1, 0.1, 0.1, 0.1, 0.1, 0.1, 0.1,...</td>\n",
       "      <td>[[-0.0657386, 0.0793842, -0.0960752, -0.105092...</td>\n",
       "      <td>[[0.0, 0.0, 0.0, 0.230658, 0.209984, 0.0, 0.0,...</td>\n",
       "      <td>[[0.0635708, 0.0584592, 0.0451551, -0.0978974,...</td>\n",
       "      <td>[[0.0973746, 0.112583, 0.094465, 0.093617, 0.0...</td>\n",
       "      <td>[[0.0634815, 0.0266746, 0.0679718, -0.00018960...</td>\n",
       "      <td>[[0.0, 0.174253, 0.0, 0.0, 0.0207704], [0.0, 0...</td>\n",
       "      <td>[[0.220022, 0.0657091, 0.422302, -0.13973, -0....</td>\n",
       "      <td>[[0.100965, 0.0973168, 0.10142, 0.0947373, 0.1...</td>\n",
       "      <td>[[-0.030202, -0.183381, 0.113005, 0.00645409, ...</td>\n",
       "      <td>[[0.0188218, 0.00918325, 0.0, 0.0399987, 0.019...</td>\n",
       "      <td>[[0.0403583, 0.0105897, 0.0754287, -0.0261048,...</td>\n",
       "      <td>[[0.0989643, 0.084909, 0.114202, 0.102659, 0.1...</td>\n",
       "    </tr>\n",
       "    <tr>\n",
       "      <th>31</th>\n",
       "      <td>[[-0.0236327, 0.0253506, 0.049005, -0.0479519,...</td>\n",
       "      <td>[[0.0, 0.0, 0.110423, 0.0, 0.0], [0.0, 0.0, 0....</td>\n",
       "      <td>[[0.696076, 0.662506, 0.476795, -1.00605, 0.00...</td>\n",
       "      <td>[[0.0960511, 0.100873, 0.103288, 0.0937434, 0....</td>\n",
       "      <td>[[-0.148322, -0.737241, 0.398955, -0.203045, 0...</td>\n",
       "      <td>[[0.0, 0.0, 0.0, 0.267769, 0.0, 0.0, 0.0, 0.0,...</td>\n",
       "      <td>[[0.0624509, 0.0568635, 0.044341, -0.0975727, ...</td>\n",
       "      <td>[[0.0879166, 0.0487873, 0.151967, 0.0832349, 0...</td>\n",
       "      <td>[[0.0985231, 0.0371878, 0.203056, 0.0477339, 0...</td>\n",
       "      <td>[[0.0, 0.427484, 0.0, 0.0, 0.0], [0.0, 0.40195...</td>\n",
       "      <td>[[0.218675, 0.0661858, 0.420243, -0.138491, -0...</td>\n",
       "      <td>[[0.0966919, 0.0909394, 0.107347, 0.0919036, 0...</td>\n",
       "      <td>[[-0.0321349, -0.437265, 0.287704, 0.0413851, ...</td>\n",
       "      <td>[[0.0899266, 0.0439076, 0.0, 0.0333376, 0.0304...</td>\n",
       "      <td>[[0.040461, 0.0105545, 0.0760337, -0.0266176, ...</td>\n",
       "      <td>[[0.0983016, 0.0655564, 0.135352, 0.105801, 0....</td>\n",
       "    </tr>\n",
       "    <tr>\n",
       "      <th>44</th>\n",
       "      <td>[[-0.0479974, 0.0633352, 0.116556, -0.117865, ...</td>\n",
       "      <td>[[0.0, 0.0, 0.270796, 0.0, 0.0], [0.0, 0.0, 0....</td>\n",
       "      <td>[[0.696072, 0.662503, 0.4768, -1.00605, 0.0044...</td>\n",
       "      <td>[[0.0908471, 0.101546, 0.107097, 0.0847165, 0....</td>\n",
       "      <td>[[-0.249769, -1.28454, 0.584768, -0.123632, 0....</td>\n",
       "      <td>[[0.0, 0.0, 0.0, 0.377413, 0.0, 0.0121449, 0.0...</td>\n",
       "      <td>[[0.0622436, 0.056174, 0.0440602, -0.0975741, ...</td>\n",
       "      <td>[[0.078816, 0.028004, 0.181572, 0.0894119, 0.1...</td>\n",
       "      <td>[[0.15756, 0.0570921, 0.447516, 0.232214, 0.49...</td>\n",
       "      <td>[[0.0, 0.910274, 0.0, 0.0, 0.0263941], [0.0, 0...</td>\n",
       "      <td>[[0.218333, 0.066307, 0.41972, -0.138176, -0.0...</td>\n",
       "      <td>[[0.0875437, 0.0791757, 0.116991, 0.0943293, 0...</td>\n",
       "      <td>[[-0.0423239, -0.692343, 0.335962, 0.0417787, ...</td>\n",
       "      <td>[[0.117526, 0.133548, 0.0, 0.0267179, 0.056415...</td>\n",
       "      <td>[[0.0401767, 0.0106206, 0.0749393, -0.0269908,...</td>\n",
       "      <td>[[0.0965964, 0.0504268, 0.141009, 0.105072, 0....</td>\n",
       "    </tr>\n",
       "    <tr>\n",
       "      <th>57</th>\n",
       "      <td>[[-0.0442602, 0.0777062, 0.135693, -0.142296, ...</td>\n",
       "      <td>[[0.0, 0.0, 0.327165, 0.0, 0.0], [0.0, 0.0, 0....</td>\n",
       "      <td>[[0.696083, 0.662493, 0.476797, -1.00603, 0.00...</td>\n",
       "      <td>[[0.0900143, 0.101691, 0.107762, 0.0816085, 0....</td>\n",
       "      <td>[[-0.157459, -1.94531, 0.948075, 0.234848, 0.9...</td>\n",
       "      <td>[[0.0, 0.0, 0.0, 0.310683, 0.0, 0.0310617, 0.0...</td>\n",
       "      <td>[[0.0621096, 0.0560389, 0.0440049, -0.0973954,...</td>\n",
       "      <td>[[0.0779237, 0.0130381, 0.235395, 0.115358, 0....</td>\n",
       "      <td>[[0.244036, 0.104885, 0.660405, 0.630505, 0.72...</td>\n",
       "      <td>[[0.0, 1.50435, 0.0, 0.0, 0.185695], [0.0, 1.5...</td>\n",
       "      <td>[[0.218246, 0.0663378, 0.419587, -0.138096, -0...</td>\n",
       "      <td>[[0.0777725, 0.0676696, 0.117938, 0.114464, 0....</td>\n",
       "      <td>[[0.0954408, -0.909678, 0.434044, -0.11608, 0....</td>\n",
       "      <td>[[0.2336, 0.193498, 0.0, 0.094559, 0.143905, 0...</td>\n",
       "      <td>[[0.0401094, 0.0106831, 0.0745318, -0.0272446,...</td>\n",
       "      <td>[[0.110083, 0.0402904, 0.154444, 0.0890956, 0....</td>\n",
       "    </tr>\n",
       "  </tbody>\n",
       "</table>\n",
       "</div>"
      ],
      "text/plain": [
       "model_type                                             resnet10  \\\n",
       "hiddens                                                       5   \n",
       "dataset_type                                            cifar10   \n",
       "optimizer                                     _lr_0.01_name_sgd   \n",
       "name                                             Layer12/fc/act   \n",
       "iter                                                              \n",
       "5             [[-0.010261, 0.15708, -0.192364, -0.328237, -0...   \n",
       "18            [[0.0, 0.0, 0.0, 0.0, 0.0, 0.0, 0.0, 0.0, 0.0,...   \n",
       "31            [[-0.0236327, 0.0253506, 0.049005, -0.0479519,...   \n",
       "44            [[-0.0479974, 0.0633352, 0.116556, -0.117865, ...   \n",
       "57            [[-0.0442602, 0.0777062, 0.135693, -0.142296, ...   \n",
       "\n",
       "model_type                                                       \\\n",
       "hiddens                                                           \n",
       "dataset_type                                                      \n",
       "optimizer                                                         \n",
       "name                                              Layer12/fc/in   \n",
       "iter                                                              \n",
       "5             [[0.0, 0.0, 0.0, 0.444299, 0.0], [0.0, 0.0, 0....   \n",
       "18            [[0.0, 0.0, 0.0, 0.0, 0.0], [0.0, 0.0, 0.0, 0....   \n",
       "31            [[0.0, 0.0, 0.110423, 0.0, 0.0], [0.0, 0.0, 0....   \n",
       "44            [[0.0, 0.0, 0.270796, 0.0, 0.0], [0.0, 0.0, 0....   \n",
       "57            [[0.0, 0.0, 0.327165, 0.0, 0.0], [0.0, 0.0, 0....   \n",
       "\n",
       "model_type                                                       \\\n",
       "hiddens                                                           \n",
       "dataset_type                                                      \n",
       "optimizer                                                         \n",
       "name                                        Layer12/fc/kernel_1   \n",
       "iter                                                              \n",
       "5             [[0.695998, 0.662487, 0.476893, -1.00606, 0.00...   \n",
       "18            [[0.696064, 0.662476, 0.47683, -1.00604, 0.004...   \n",
       "31            [[0.696076, 0.662506, 0.476795, -1.00605, 0.00...   \n",
       "44            [[0.696072, 0.662503, 0.4768, -1.00605, 0.0044...   \n",
       "57            [[0.696083, 0.662493, 0.476797, -1.00603, 0.00...   \n",
       "\n",
       "model_type                                                       \\\n",
       "hiddens                                                           \n",
       "dataset_type                                                      \n",
       "optimizer                                                         \n",
       "name                                        Layer12/softmax/act   \n",
       "iter                                                              \n",
       "5             [[0.102739, 0.121454, 0.0856347, 0.0747551, 0....   \n",
       "18            [[0.1, 0.1, 0.1, 0.1, 0.1, 0.1, 0.1, 0.1, 0.1,...   \n",
       "31            [[0.0960511, 0.100873, 0.103288, 0.0937434, 0....   \n",
       "44            [[0.0908471, 0.101546, 0.107097, 0.0847165, 0....   \n",
       "57            [[0.0900143, 0.101691, 0.107762, 0.0816085, 0....   \n",
       "\n",
       "model_type                                                       \\\n",
       "hiddens                                                     512   \n",
       "dataset_type                                            cifar10   \n",
       "optimizer                                     _lr_0.01_name_sgd   \n",
       "name                                             Layer12/fc/act   \n",
       "iter                                                              \n",
       "5             [[0.039163, 0.419451, -0.481375, -0.328681, -0...   \n",
       "18            [[-0.0657386, 0.0793842, -0.0960752, -0.105092...   \n",
       "31            [[-0.148322, -0.737241, 0.398955, -0.203045, 0...   \n",
       "44            [[-0.249769, -1.28454, 0.584768, -0.123632, 0....   \n",
       "57            [[-0.157459, -1.94531, 0.948075, 0.234848, 0.9...   \n",
       "\n",
       "model_type                                                       \\\n",
       "hiddens                                                           \n",
       "dataset_type                                                      \n",
       "optimizer                                                         \n",
       "name                                              Layer12/fc/in   \n",
       "iter                                                              \n",
       "5             [[0.0, 0.0, 0.0, 0.223212, 0.33622, 0.0, 0.0, ...   \n",
       "18            [[0.0, 0.0, 0.0, 0.230658, 0.209984, 0.0, 0.0,...   \n",
       "31            [[0.0, 0.0, 0.0, 0.267769, 0.0, 0.0, 0.0, 0.0,...   \n",
       "44            [[0.0, 0.0, 0.0, 0.377413, 0.0, 0.0121449, 0.0...   \n",
       "57            [[0.0, 0.0, 0.0, 0.310683, 0.0, 0.0310617, 0.0...   \n",
       "\n",
       "model_type                                                       \\\n",
       "hiddens                                                           \n",
       "dataset_type                                                      \n",
       "optimizer                                                         \n",
       "name                                        Layer12/fc/kernel_1   \n",
       "iter                                                              \n",
       "5             [[0.0674471, 0.0637101, 0.0464512, -0.0992274,...   \n",
       "18            [[0.0635708, 0.0584592, 0.0451551, -0.0978974,...   \n",
       "31            [[0.0624509, 0.0568635, 0.044341, -0.0975727, ...   \n",
       "44            [[0.0622436, 0.056174, 0.0440602, -0.0975741, ...   \n",
       "57            [[0.0621096, 0.0560389, 0.0440049, -0.0973954,...   \n",
       "\n",
       "model_type                                                       \\\n",
       "hiddens                                                           \n",
       "dataset_type                                                      \n",
       "optimizer                                                         \n",
       "name                                        Layer12/softmax/act   \n",
       "iter                                                              \n",
       "5             [[0.106228, 0.155381, 0.0631209, 0.0735339, 0....   \n",
       "18            [[0.0973746, 0.112583, 0.094465, 0.093617, 0.0...   \n",
       "31            [[0.0879166, 0.0487873, 0.151967, 0.0832349, 0...   \n",
       "44            [[0.078816, 0.028004, 0.181572, 0.0894119, 0.1...   \n",
       "57            [[0.0779237, 0.0130381, 0.235395, 0.115358, 0....   \n",
       "\n",
       "model_type                                                vgg10  \\\n",
       "hiddens                                                       5   \n",
       "dataset_type                                            cifar10   \n",
       "optimizer                                     _lr_0.01_name_sgd   \n",
       "name                                             Layer10/fc/act   \n",
       "iter                                                              \n",
       "5             [[0.00781416, 0.00303211, 0.00829018, -0.00066...   \n",
       "18            [[0.0634815, 0.0266746, 0.0679718, -0.00018960...   \n",
       "31            [[0.0985231, 0.0371878, 0.203056, 0.0477339, 0...   \n",
       "44            [[0.15756, 0.0570921, 0.447516, 0.232214, 0.49...   \n",
       "57            [[0.244036, 0.104885, 0.660405, 0.630505, 0.72...   \n",
       "\n",
       "model_type                                                       \\\n",
       "hiddens                                                           \n",
       "dataset_type                                                      \n",
       "optimizer                                                         \n",
       "name                                              Layer10/fc/in   \n",
       "iter                                                              \n",
       "5             [[0.0, 0.0206263, 0.0, 0.0, 0.0], [0.0, 0.0212...   \n",
       "18            [[0.0, 0.174253, 0.0, 0.0, 0.0207704], [0.0, 0...   \n",
       "31            [[0.0, 0.427484, 0.0, 0.0, 0.0], [0.0, 0.40195...   \n",
       "44            [[0.0, 0.910274, 0.0, 0.0, 0.0263941], [0.0, 0...   \n",
       "57            [[0.0, 1.50435, 0.0, 0.0, 0.185695], [0.0, 1.5...   \n",
       "\n",
       "model_type                                                       \\\n",
       "hiddens                                                           \n",
       "dataset_type                                                      \n",
       "optimizer                                                         \n",
       "name                                        Layer10/fc/kernel_1   \n",
       "iter                                                              \n",
       "5             [[0.225322, 0.0638335, 0.430403, -0.144604, -0...   \n",
       "18            [[0.220022, 0.0657091, 0.422302, -0.13973, -0....   \n",
       "31            [[0.218675, 0.0661858, 0.420243, -0.138491, -0...   \n",
       "44            [[0.218333, 0.066307, 0.41972, -0.138176, -0.0...   \n",
       "57            [[0.218246, 0.0663378, 0.419587, -0.138096, -0...   \n",
       "\n",
       "model_type                                                       \\\n",
       "hiddens                                                           \n",
       "dataset_type                                                      \n",
       "optimizer                                                         \n",
       "name                                        Layer10/softmax/act   \n",
       "iter                                                              \n",
       "5             [[0.100157, 0.0996794, 0.100205, 0.0993117, 0....   \n",
       "18            [[0.100965, 0.0973168, 0.10142, 0.0947373, 0.1...   \n",
       "31            [[0.0966919, 0.0909394, 0.107347, 0.0919036, 0...   \n",
       "44            [[0.0875437, 0.0791757, 0.116991, 0.0943293, 0...   \n",
       "57            [[0.0777725, 0.0676696, 0.117938, 0.114464, 0....   \n",
       "\n",
       "model_type                                                       \\\n",
       "hiddens                                                     512   \n",
       "dataset_type                                            cifar10   \n",
       "optimizer                                     _lr_0.01_name_sgd   \n",
       "name                                             Layer10/fc/act   \n",
       "iter                                                              \n",
       "5             [[0.00247733, -0.0371877, 0.017305, -0.0040755...   \n",
       "18            [[-0.030202, -0.183381, 0.113005, 0.00645409, ...   \n",
       "31            [[-0.0321349, -0.437265, 0.287704, 0.0413851, ...   \n",
       "44            [[-0.0423239, -0.692343, 0.335962, 0.0417787, ...   \n",
       "57            [[0.0954408, -0.909678, 0.434044, -0.11608, 0....   \n",
       "\n",
       "model_type                                                       \\\n",
       "hiddens                                                           \n",
       "dataset_type                                                      \n",
       "optimizer                                                         \n",
       "name                                              Layer10/fc/in   \n",
       "iter                                                              \n",
       "5             [[0.0, 0.000128069, 0.0, 0.0141188, 0.0127136,...   \n",
       "18            [[0.0188218, 0.00918325, 0.0, 0.0399987, 0.019...   \n",
       "31            [[0.0899266, 0.0439076, 0.0, 0.0333376, 0.0304...   \n",
       "44            [[0.117526, 0.133548, 0.0, 0.0267179, 0.056415...   \n",
       "57            [[0.2336, 0.193498, 0.0, 0.094559, 0.143905, 0...   \n",
       "\n",
       "model_type                                                       \\\n",
       "hiddens                                                           \n",
       "dataset_type                                                      \n",
       "optimizer                                                         \n",
       "name                                        Layer10/fc/kernel_1   \n",
       "iter                                                              \n",
       "5             [[0.0394082, 0.0103396, 0.0747017, -0.0255243,...   \n",
       "18            [[0.0403583, 0.0105897, 0.0754287, -0.0261048,...   \n",
       "31            [[0.040461, 0.0105545, 0.0760337, -0.0266176, ...   \n",
       "44            [[0.0401767, 0.0106206, 0.0749393, -0.0269908,...   \n",
       "57            [[0.0401094, 0.0106831, 0.0745318, -0.0272446,...   \n",
       "\n",
       "model_type                                                       \n",
       "hiddens                                                          \n",
       "dataset_type                                                     \n",
       "optimizer                                                        \n",
       "name                                        Layer10/softmax/act  \n",
       "iter                                                             \n",
       "5             [[0.100788, 0.0968686, 0.102294, 0.10013, 0.10...  \n",
       "18            [[0.0989643, 0.084909, 0.114202, 0.102659, 0.1...  \n",
       "31            [[0.0983016, 0.0655564, 0.135352, 0.105801, 0....  \n",
       "44            [[0.0965964, 0.0504268, 0.141009, 0.105072, 0....  \n",
       "57            [[0.110083, 0.0402904, 0.154444, 0.0890956, 0....  "
      ]
     },
     "execution_count": 2,
     "metadata": {},
     "output_type": "execute_result"
    }
   ],
   "source": [
    "vis=Visualizer(paranet_folder='tensor')\n",
    "vis.tensor.head()\n",
    "\n",
    "outs=vis.tensor.iloc[:,0:1].copy()\n",
    "inps=vis.tensor.iloc[:,1:2].copy()\n",
    "outs=np.array(outs.values.tolist()).squeeze()\n",
    "inps = np.array(inps.values.tolist()).squeeze()"
   ]
  },
  {
   "cell_type": "code",
   "execution_count": null,
   "metadata": {
    "scrolled": true
   },
   "outputs": [],
   "source": [
    "from model_utils import * \n",
    "marg = np.empty(outs.shape[:2])\n",
    "for ind in np.ndindex(outs.shape[0]):\n",
    "#     print ind\n",
    "    marg[ind,:]=calc_margin(inps[ind] ,outs[ind]) \n",
    "    \n",
    "marg.shape\n",
    "\n",
    "pickle(marg,'./marg.pkl')\n",
    "\n",
    "marg.shape\n",
    "marg[np.isnan(marg)]=0"
   ]
  },
  {
   "cell_type": "code",
   "execution_count": 17,
   "metadata": {
    "collapsed": true,
    "scrolled": true
   },
   "outputs": [],
   "source": [
    "import tensorflow as tf, numpy as np\n",
    "\n",
    "mysummary_writer = tf.summary.FileWriter(\"./tf/observe\")\n",
    "\n",
    "a = tf.Variable(tf.zeros([272,]), name=\"a\")\n",
    "sum1 = tf.summary.histogram(\"nparray1\", a)\n",
    "summary_op = tf.summary.merge_all()\n",
    "sess = tf.Session()\n",
    "\n",
    "sess.run(tf.global_variables_initializer())\n",
    "\n",
    "for ii,foo in zip(vis.tensor.index,marg):\n",
    "    assign_op = a.assign(foo)\n",
    "    summary, _ = sess.run([summary_op, assign_op])\n",
    "    mysummary_writer.add_summary(tf.Summary.FromString(summary), global_step=ii)\n",
    "    mysummary_writer.flush()"
   ]
  },
  {
   "cell_type": "code",
   "execution_count": null,
   "metadata": {
    "collapsed": true
   },
   "outputs": [],
   "source": []
  }
 ],
 "metadata": {
  "kernelspec": {
   "display_name": "Python 2",
   "language": "python",
   "name": "python2"
  },
  "language_info": {
   "codemirror_mode": {
    "name": "ipython",
    "version": 2
   },
   "file_extension": ".py",
   "mimetype": "text/x-python",
   "name": "python",
   "nbconvert_exporter": "python",
   "pygments_lexer": "ipython2",
   "version": "2.7.13"
  }
 },
 "nbformat": 4,
 "nbformat_minor": 1
}
