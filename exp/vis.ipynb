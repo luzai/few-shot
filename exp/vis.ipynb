{
 "cells": [
  {
   "cell_type": "code",
   "execution_count": 1,
   "metadata": {},
   "outputs": [
    {
     "name": "stdout",
     "output_type": "stream",
     "text": [
      "\n"
     ]
    }
   ],
   "source": [
    "from utils import *\n",
    "from metadata import *\n",
    "import utils\n",
    "import tensorflow as tf\n",
    "# utils.init_dev(utils.get_dev())\n",
    "# utils.allow_growth()\n",
    "\n",
    "%load_ext autoreload\n",
    "# %reload_ext autoreload\n",
    "%autoreload 2\n",
    "%matplotlib inline\n",
    "import matplotlib\n",
    "matplotlib.style.use('ggplot')\n",
    "\n",
    "from IPython.core.interactiveshell import InteractiveShell\n",
    "InteractiveShell.ast_node_interactivity = \"all\""
   ]
  },
  {
   "cell_type": "code",
   "execution_count": 2,
   "metadata": {},
   "outputs": [],
   "source": [
    "from graph_tool.all import *"
   ]
  },
  {
   "cell_type": "code",
   "execution_count": 7,
   "metadata": {},
   "outputs": [],
   "source": [
    "os.chdir('../models/')"
   ]
  },
  {
   "cell_type": "code",
   "execution_count": 42,
   "metadata": {},
   "outputs": [],
   "source": [
    "import pyparrots\n",
    "import string,os\n",
    "from pyparrots.env import Environ\n",
    "import pyparrots.dnn as dnn\n",
    "\n",
    "session_file= './session.yaml'\n",
    "model_file = \"./model.yaml\"\n",
    "param_file = \"/mnt/gv7/16winter/16winter/ijcai/resnet101/model.parrots\"\n",
    "\n",
    "mapping=dict(gpu='2:4',\n",
    "            bs=8*2,\n",
    "            )\n",
    "\n",
    "# read model file\n",
    "with open(model_file) as fin:\n",
    "    model_text = fin.read()\n",
    "\n",
    "# read session file\n",
    "with open(session_file, 'r') as fcfg:\n",
    "    cfg_templ = fcfg.read()\n",
    "cfg_templ = string.Template(cfg_templ)\n",
    "\n",
    "cfg_text = cfg_templ.substitute(mapping)\n",
    "# create model\n",
    "model = dnn.Model.from_yaml_text(model_text)\n",
    "# create session\n",
    "session = dnn.Session.from_yaml_text(model, cfg_text)\n",
    "\n",
    "session.setup()\n",
    "\n",
    "# uncommend following line to load parameter\n",
    "session.flow('val').load_param(param_file)\n",
    "\n",
    "with session.flow('val') as f:\n",
    "    f.forward()\n",
    "\n",
    "# f=session.flow('val')\n",
    "f.forward()\n",
    "list(f.input_ids())\n",
    "list(f.output_ids())\n",
    "\n",
    "\n",
    "f.data('loss').value()"
   ]
  },
  {
   "cell_type": "code",
   "execution_count": null,
   "metadata": {},
   "outputs": [],
   "source": []
  },
  {
   "cell_type": "code",
   "execution_count": null,
   "metadata": {},
   "outputs": [],
   "source": []
  },
  {
   "cell_type": "code",
   "execution_count": null,
   "metadata": {},
   "outputs": [],
   "source": []
  }
 ],
 "metadata": {
  "anaconda-cloud": {},
  "kernelspec": {
   "display_name": "Python 2",
   "language": "python",
   "name": "python2"
  },
  "language_info": {
   "codemirror_mode": {
    "name": "ipython",
    "version": 2
   },
   "file_extension": ".py",
   "mimetype": "text/x-python",
   "name": "python",
   "nbconvert_exporter": "python",
   "pygments_lexer": "ipython2",
   "version": "2.7.12"
  }
 },
 "nbformat": 4,
 "nbformat_minor": 1
}
